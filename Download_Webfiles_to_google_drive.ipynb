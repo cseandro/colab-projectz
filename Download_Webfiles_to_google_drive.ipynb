{
  "nbformat": 4,
  "nbformat_minor": 0,
  "metadata": {
    "colab": {
      "name": "Download Webfiles to google drive",
      "provenance": [],
      "collapsed_sections": [],
      "toc_visible": true
    },
    "kernelspec": {
      "name": "python3",
      "display_name": "Python 3"
    }
  },
  "cells": [
    {
      "cell_type": "markdown",
      "metadata": {
        "id": "Uf90U73y9YOj",
        "colab_type": "text"
      },
      "source": [
        "### Mount Google Drive\n",
        "To stream files we need to mount Google Drive."
      ]
    },
    {
      "cell_type": "code",
      "metadata": {
        "colab_type": "code",
        "id": "oWM9l2fvtuvO",
        "colab": {}
      },
      "source": [
        "from google.colab import drive\n",
        "drive.mount('/content/drive')"
      ],
      "execution_count": 0,
      "outputs": []
    },
    {
      "cell_type": "code",
      "metadata": {
        "id": "PjZgOG0DBWUr",
        "colab_type": "code",
        "colab": {}
      },
      "source": [
        "\n",
        "!apt install python3"
      ],
      "execution_count": 0,
      "outputs": []
    },
    {
      "cell_type": "code",
      "metadata": {
        "id": "PXcnQQJNzdLd",
        "colab_type": "code",
        "colab": {}
      },
      "source": [
        "import urllib.request\n",
        "\n",
        "print('Beginning file download with urllib2...')\n",
        "\n",
        "url = 'https://cdn1.einthusan.io/etv/content/D1123.mp4?e=1569168524&md5=LH1LLPtaKxkR9RIO-jT9cQ'  #change this download link\n",
        "urllib.request.urlretrieve(url, '/content/drive/My Drive/Torrent/Paavai Vilakku-1960.mp4')   #change this file name with mimetype  (ex:sample.mp4)"
      ],
      "execution_count": 0,
      "outputs": []
    },
    {
      "cell_type": "markdown",
      "metadata": {
        "id": "6K8PgZiMJGtb",
        "colab_type": "text"
      },
      "source": [
        "# Extract Youtube video Download link show"
      ]
    },
    {
      "cell_type": "code",
      "metadata": {
        "id": "kwSEBGHzyBb4",
        "colab_type": "code",
        "colab": {}
      },
      "source": [
        "!pip install --upgrade youtube-dl"
      ],
      "execution_count": 0,
      "outputs": []
    },
    {
      "cell_type": "code",
      "metadata": {
        "id": "zvf0SBonJMyi",
        "colab_type": "code",
        "colab": {}
      },
      "source": [
        "import youtube_dl\n",
        "\n",
        "ydl = youtube_dl.YoutubeDL({'outtmpl': '%(id)s%(ext)s'})\n",
        "\n",
        "with ydl:\n",
        "    result = ydl.extract_info(\n",
        "        'https://www.youtube.com/watch?v=poZpkDrNwac',\n",
        "        download=False # We just want to extract the info\n",
        "    )\n",
        "\n",
        "if 'entries' in result:\n",
        "    # Can be a playlist or a list of videos\n",
        "    video = result['entries'][0]\n",
        "else:\n",
        "    # Just a video\n",
        "    video = result\n",
        "\n",
        "print(video)"
      ],
      "execution_count": 0,
      "outputs": []
    },
    {
      "cell_type": "markdown",
      "metadata": {
        "id": "hp5ls8l69oBo",
        "colab_type": "text"
      },
      "source": [
        "# ***YOUTUBE DOWNLOADER to google drive***"
      ]
    },
    {
      "cell_type": "code",
      "metadata": {
        "id": "KYLfCcpHLuOb",
        "colab_type": "code",
        "colab": {}
      },
      "source": [
        "!pip install --upgrade youtube-dl"
      ],
      "execution_count": 0,
      "outputs": []
    },
    {
      "cell_type": "code",
      "metadata": {
        "id": "7d3vh9j91bl0",
        "colab_type": "code",
        "colab": {}
      },
      "source": [
        "#Replace Your Youtube url\n",
        "\n",
        "!youtube-dl -f 137+140 https://www.youtube.com/watch?v=QVgSyvzmbxw  -o \"/content/drive/My Drive/%(title)s.%(ext)s\" \n",
        "    \n",
        "\n"
      ],
      "execution_count": 0,
      "outputs": []
    },
    {
      "cell_type": "markdown",
      "metadata": {
        "id": "ssbPSCCsK1pj",
        "colab_type": "text"
      },
      "source": [
        "# Download Youtube Videos To Colab Server"
      ]
    },
    {
      "cell_type": "code",
      "metadata": {
        "id": "s8bZQLjXD3js",
        "colab_type": "code",
        "colab": {}
      },
      "source": [
        "\n",
        "from __future__ import unicode_literals\n",
        "import youtube_dl\n",
        "\n",
        "ydl_opts = {}\n",
        "with youtube_dl.YoutubeDL(ydl_opts) as ydl:\n",
        "    ydl.download(['https://www.youtube.com/watch?v=V9LChBJ1-B0'])"
      ],
      "execution_count": 0,
      "outputs": []
    }
  ]
}